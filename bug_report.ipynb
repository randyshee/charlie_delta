{
 "cells": [
  {
   "cell_type": "code",
   "execution_count": 1,
   "metadata": {},
   "outputs": [
    {
     "name": "stderr",
     "output_type": "stream",
     "text": [
      "/Users/randybleximo/Desktop/Batista Lab/QC/YQuantum/charlie_delta/.venv/lib/python3.12/site-packages/cotengra/hyperoptimizers/hyper.py:54: UserWarning: Couldn't find `optuna`, `cmaes`, or `nevergrad` so will use completely random sampling in place of hyper-optimization.\n",
      "  warnings.warn(\n",
      "/Users/randybleximo/Desktop/Batista Lab/QC/YQuantum/charlie_delta/.venv/lib/python3.12/site-packages/cotengra/hyperoptimizers/hyper.py:36: UserWarning: Couldn't import `kahypar` - skipping from default hyper optimizer and using basic `labels` method instead.\n",
      "  warnings.warn(\n",
      "/Users/randybleximo/Desktop/Batista Lab/QC/YQuantum/charlie_delta/.venv/lib/python3.12/site-packages/cotengra/hyperoptimizers/hyper.py:73: UserWarning: Couldn't find `optuna`, `cmaes`, or `nevergrad` so will use completely random sampling in place of hyper-optimization.\n",
      "  warnings.warn(\n"
     ]
    }
   ],
   "source": [
    "from bloqade import qasm2\n",
    "from bloqade.pyqrack import PyQrack\n",
    "from bloqade.qasm2.emit import QASM2 # the QASM2 target\n",
    "from bloqade.qasm2.parse import pprint # the QASM2 pretty printer\n",
    "\n",
    "from qiskit import QuantumCircuit\n",
    "from src.helper import get_qasm_string"
   ]
  },
  {
   "cell_type": "markdown",
   "metadata": {},
   "source": [
    "# 1. Tutorial Circuit QASM Strings Are Not Valid (Not QASM2 Compatible)"
   ]
  },
  {
   "cell_type": "markdown",
   "metadata": {},
   "source": [
    "## 1.1 Example from [GHZ_tutorial_v3.ipynb](https://github.com/IgnacioBlancasRodriguez/yquantum/blob/main/2025/GHZ_tutorial_v3.ipynb)\n",
    "(but all circuits from [Bloqade Digital Tutorials](https://bloqade.quera.com/latest/digital/) have the same problem)"
   ]
  },
  {
   "cell_type": "code",
   "execution_count": 2,
   "metadata": {},
   "outputs": [],
   "source": [
    "def ghz_linear(n: int):\n",
    "    n_qubits = int(2**n)\n",
    "\n",
    "    @qasm2.extended\n",
    "    def ghz_linear_program():\n",
    "\n",
    "        qreg = qasm2.qreg(n_qubits)\n",
    "        # Apply a Hadamard on the first qubit\n",
    "        qasm2.h(qreg[0])\n",
    "        # Create a cascading sequence of CX gates\n",
    "        # necessary for quantum computers that\n",
    "        # only have nearest-neighbor connectivity between qubits\n",
    "        for i in range(1, n_qubits):\n",
    "            qasm2.cx(qreg[i - 1], qreg[i])\n",
    "\n",
    "    return ghz_linear_program"
   ]
  },
  {
   "cell_type": "code",
   "execution_count": 3,
   "metadata": {},
   "outputs": [
    {
     "name": "stdout",
     "output_type": "stream",
     "text": [
      "\u001b[90mOPENQASM 2.0\u001b[0m;\n",
      "\u001b[31minclude\u001b[0m \u001b[32m\"qelib1.inc\"\u001b[0m;\n",
      "\u001b[31mqreg\u001b[0m qreg[4];\n",
      "\u001b[36mh\u001b[0m \u001b[36mqreg\u001b[0m[\u001b[39m0\u001b[0m];\n",
      "\u001b[31mCX\u001b[0m \u001b[36mqreg\u001b[0m[\u001b[39m0\u001b[0m], \u001b[36mqreg\u001b[0m[\u001b[39m1\u001b[0m];\n",
      "\u001b[31mCX\u001b[0m \u001b[36mqreg\u001b[0m[\u001b[39m1\u001b[0m], \u001b[36mqreg\u001b[0m[\u001b[39m2\u001b[0m];\n",
      "\u001b[31mCX\u001b[0m \u001b[36mqreg\u001b[0m[\u001b[39m2\u001b[0m], \u001b[36mqreg\u001b[0m[\u001b[39m3\u001b[0m];\n"
     ]
    }
   ],
   "source": [
    "target = QASM2()\n",
    "ast = target.emit(ghz_linear(2))\n",
    "pprint(ast)"
   ]
  },
  {
   "cell_type": "code",
   "execution_count": 4,
   "metadata": {},
   "outputs": [
    {
     "ename": "QASM2ParseError",
     "evalue": "'<input>:3,5: needed a valid identifier, but instead saw qreg'",
     "output_type": "error",
     "traceback": [
      "\u001b[31m---------------------------------------------------------------------------\u001b[39m",
      "\u001b[31mQASM2ParseError\u001b[39m                           Traceback (most recent call last)",
      "\u001b[36mCell\u001b[39m\u001b[36m \u001b[39m\u001b[32mIn[4]\u001b[39m\u001b[32m, line 2\u001b[39m\n\u001b[32m      1\u001b[39m qasm_string = get_qasm_string(ast)\n\u001b[32m----> \u001b[39m\u001b[32m2\u001b[39m circuit = \u001b[43mQuantumCircuit\u001b[49m\u001b[43m.\u001b[49m\u001b[43mfrom_qasm_str\u001b[49m\u001b[43m(\u001b[49m\u001b[43mqasm_string\u001b[49m\u001b[43m)\u001b[49m\n\u001b[32m      3\u001b[39m circuit.draw(\u001b[33m'\u001b[39m\u001b[33mmpl\u001b[39m\u001b[33m'\u001b[39m)\n\u001b[32m      5\u001b[39m \u001b[33;03m\"\"\"QASM2ParseError: '<input>:3,5: needed a valid identifier, but instead saw qreg'\"\"\"\u001b[39;00m\n",
      "\u001b[36mFile \u001b[39m\u001b[32m~/Desktop/Batista Lab/QC/YQuantum/charlie_delta/.venv/lib/python3.12/site-packages/qiskit/circuit/quantumcircuit.py:4244\u001b[39m, in \u001b[36mQuantumCircuit.from_qasm_str\u001b[39m\u001b[34m(qasm_str)\u001b[39m\n\u001b[32m   4241\u001b[39m \u001b[38;5;66;03m# pylint: disable=cyclic-import\u001b[39;00m\n\u001b[32m   4242\u001b[39m \u001b[38;5;28;01mfrom\u001b[39;00m\u001b[38;5;250m \u001b[39m\u001b[34;01mqiskit\u001b[39;00m\u001b[38;5;250m \u001b[39m\u001b[38;5;28;01mimport\u001b[39;00m qasm2\n\u001b[32m-> \u001b[39m\u001b[32m4244\u001b[39m \u001b[38;5;28;01mreturn\u001b[39;00m \u001b[43mqasm2\u001b[49m\u001b[43m.\u001b[49m\u001b[43mloads\u001b[49m\u001b[43m(\u001b[49m\n\u001b[32m   4245\u001b[39m \u001b[43m    \u001b[49m\u001b[43mqasm_str\u001b[49m\u001b[43m,\u001b[49m\n\u001b[32m   4246\u001b[39m \u001b[43m    \u001b[49m\u001b[43minclude_path\u001b[49m\u001b[43m=\u001b[49m\u001b[43mqasm2\u001b[49m\u001b[43m.\u001b[49m\u001b[43mLEGACY_INCLUDE_PATH\u001b[49m\u001b[43m,\u001b[49m\n\u001b[32m   4247\u001b[39m \u001b[43m    \u001b[49m\u001b[43mcustom_instructions\u001b[49m\u001b[43m=\u001b[49m\u001b[43mqasm2\u001b[49m\u001b[43m.\u001b[49m\u001b[43mLEGACY_CUSTOM_INSTRUCTIONS\u001b[49m\u001b[43m,\u001b[49m\n\u001b[32m   4248\u001b[39m \u001b[43m    \u001b[49m\u001b[43mcustom_classical\u001b[49m\u001b[43m=\u001b[49m\u001b[43mqasm2\u001b[49m\u001b[43m.\u001b[49m\u001b[43mLEGACY_CUSTOM_CLASSICAL\u001b[49m\u001b[43m,\u001b[49m\n\u001b[32m   4249\u001b[39m \u001b[43m    \u001b[49m\u001b[43mstrict\u001b[49m\u001b[43m=\u001b[49m\u001b[38;5;28;43;01mFalse\u001b[39;49;00m\u001b[43m,\u001b[49m\n\u001b[32m   4250\u001b[39m \u001b[43m\u001b[49m\u001b[43m)\u001b[49m\n",
      "\u001b[36mFile \u001b[39m\u001b[32m~/Desktop/Batista Lab/QC/YQuantum/charlie_delta/.venv/lib/python3.12/site-packages/qiskit/qasm2/__init__.py:602\u001b[39m, in \u001b[36mloads\u001b[39m\u001b[34m(string, include_path, custom_instructions, custom_classical, strict)\u001b[39m\n\u001b[32m    586\u001b[39m \u001b[38;5;250m\u001b[39m\u001b[33;03m\"\"\"Parse an OpenQASM 2 program from a string into a :class:`.QuantumCircuit`.\u001b[39;00m\n\u001b[32m    587\u001b[39m \n\u001b[32m    588\u001b[39m \u001b[33;03mArgs:\u001b[39;00m\n\u001b[32m   (...)\u001b[39m\u001b[32m    599\u001b[39m \u001b[33;03m    A circuit object representing the same OpenQASM 2 program.\u001b[39;00m\n\u001b[32m    600\u001b[39m \u001b[33;03m\"\"\"\u001b[39;00m\n\u001b[32m    601\u001b[39m custom_instructions = \u001b[38;5;28mlist\u001b[39m(custom_instructions)\n\u001b[32m--> \u001b[39m\u001b[32m602\u001b[39m \u001b[38;5;28;01mreturn\u001b[39;00m \u001b[43m_parse\u001b[49m\u001b[43m.\u001b[49m\u001b[43mfrom_bytecode\u001b[49m\u001b[43m(\u001b[49m\n\u001b[32m    603\u001b[39m \u001b[43m    \u001b[49m\u001b[43m_qasm2\u001b[49m\u001b[43m.\u001b[49m\u001b[43mbytecode_from_string\u001b[49m\u001b[43m(\u001b[49m\n\u001b[32m    604\u001b[39m \u001b[43m        \u001b[49m\u001b[43mstring\u001b[49m\u001b[43m,\u001b[49m\n\u001b[32m    605\u001b[39m \u001b[43m        \u001b[49m\u001b[43m[\u001b[49m\u001b[43m_normalize_path\u001b[49m\u001b[43m(\u001b[49m\u001b[43mpath\u001b[49m\u001b[43m)\u001b[49m\u001b[43m \u001b[49m\u001b[38;5;28;43;01mfor\u001b[39;49;00m\u001b[43m \u001b[49m\u001b[43mpath\u001b[49m\u001b[43m \u001b[49m\u001b[38;5;129;43;01min\u001b[39;49;00m\u001b[43m \u001b[49m\u001b[43minclude_path\u001b[49m\u001b[43m]\u001b[49m\u001b[43m,\u001b[49m\n\u001b[32m    606\u001b[39m \u001b[43m        \u001b[49m\u001b[43m[\u001b[49m\n\u001b[32m    607\u001b[39m \u001b[43m            \u001b[49m\u001b[43m_qasm2\u001b[49m\u001b[43m.\u001b[49m\u001b[43mCustomInstruction\u001b[49m\u001b[43m(\u001b[49m\u001b[43mx\u001b[49m\u001b[43m.\u001b[49m\u001b[43mname\u001b[49m\u001b[43m,\u001b[49m\u001b[43m \u001b[49m\u001b[43mx\u001b[49m\u001b[43m.\u001b[49m\u001b[43mnum_params\u001b[49m\u001b[43m,\u001b[49m\u001b[43m \u001b[49m\u001b[43mx\u001b[49m\u001b[43m.\u001b[49m\u001b[43mnum_qubits\u001b[49m\u001b[43m,\u001b[49m\u001b[43m \u001b[49m\u001b[43mx\u001b[49m\u001b[43m.\u001b[49m\u001b[43mbuiltin\u001b[49m\u001b[43m)\u001b[49m\n\u001b[32m    608\u001b[39m \u001b[43m            \u001b[49m\u001b[38;5;28;43;01mfor\u001b[39;49;00m\u001b[43m \u001b[49m\u001b[43mx\u001b[49m\u001b[43m \u001b[49m\u001b[38;5;129;43;01min\u001b[39;49;00m\u001b[43m \u001b[49m\u001b[43mcustom_instructions\u001b[49m\n\u001b[32m    609\u001b[39m \u001b[43m        \u001b[49m\u001b[43m]\u001b[49m\u001b[43m,\u001b[49m\n\u001b[32m    610\u001b[39m \u001b[43m        \u001b[49m\u001b[38;5;28;43mtuple\u001b[39;49m\u001b[43m(\u001b[49m\u001b[43mcustom_classical\u001b[49m\u001b[43m)\u001b[49m\u001b[43m,\u001b[49m\n\u001b[32m    611\u001b[39m \u001b[43m        \u001b[49m\u001b[43mstrict\u001b[49m\u001b[43m,\u001b[49m\n\u001b[32m    612\u001b[39m \u001b[43m    \u001b[49m\u001b[43m)\u001b[49m\u001b[43m,\u001b[49m\n\u001b[32m    613\u001b[39m \u001b[43m    \u001b[49m\u001b[43mcustom_instructions\u001b[49m\u001b[43m,\u001b[49m\n\u001b[32m    614\u001b[39m \u001b[43m\u001b[49m\u001b[43m)\u001b[49m\n",
      "\u001b[36mFile \u001b[39m\u001b[32m~/Desktop/Batista Lab/QC/YQuantum/charlie_delta/.venv/lib/python3.12/site-packages/qiskit/qasm2/parse.py:242\u001b[39m, in \u001b[36mfrom_bytecode\u001b[39m\u001b[34m(bytecode, custom_instructions)\u001b[39m\n\u001b[32m    239\u001b[39m \u001b[38;5;66;03m# Pull this out as an explicit iterator so we can manually advance the loop in `DeclareGate`\u001b[39;00m\n\u001b[32m    240\u001b[39m \u001b[38;5;66;03m# contexts easily.\u001b[39;00m\n\u001b[32m    241\u001b[39m bc = \u001b[38;5;28miter\u001b[39m(bytecode)\n\u001b[32m--> \u001b[39m\u001b[32m242\u001b[39m \u001b[43m\u001b[49m\u001b[38;5;28;43;01mfor\u001b[39;49;00m\u001b[43m \u001b[49m\u001b[43mop\u001b[49m\u001b[43m \u001b[49m\u001b[38;5;129;43;01min\u001b[39;49;00m\u001b[43m \u001b[49m\u001b[43mbc\u001b[49m\u001b[43m:\u001b[49m\n\u001b[32m    243\u001b[39m \u001b[43m    \u001b[49m\u001b[38;5;66;43;03m# We have to check `op.opcode` so many times, it's worth pulling out the extra attribute\u001b[39;49;00m\n\u001b[32m    244\u001b[39m \u001b[43m    \u001b[49m\u001b[38;5;66;43;03m# access.  We should check the opcodes in order of their likelihood to be in the OQ2 program\u001b[39;49;00m\n\u001b[32m    245\u001b[39m \u001b[43m    \u001b[49m\u001b[38;5;66;43;03m# for speed.  Gate applications are by far the most common for long programs.  This function\u001b[39;49;00m\n\u001b[32m    246\u001b[39m \u001b[43m    \u001b[49m\u001b[38;5;66;43;03m# is deliberately long and does not use hashmaps or function lookups for speed in\u001b[39;49;00m\n\u001b[32m    247\u001b[39m \u001b[43m    \u001b[49m\u001b[38;5;66;43;03m# Python-space.\u001b[39;49;00m\n\u001b[32m    248\u001b[39m \u001b[43m    \u001b[49m\u001b[43mopcode\u001b[49m\u001b[43m \u001b[49m\u001b[43m=\u001b[49m\u001b[43m \u001b[49m\u001b[43mop\u001b[49m\u001b[43m.\u001b[49m\u001b[43mopcode\u001b[49m\n\u001b[32m    249\u001b[39m \u001b[43m    \u001b[49m\u001b[38;5;66;43;03m# `OpCode` is an `enum` in Rust, but its instances don't have the same singleton property as\u001b[39;49;00m\n\u001b[32m    250\u001b[39m \u001b[43m    \u001b[49m\u001b[38;5;66;43;03m# Python `enum.Enum` objects.\u001b[39;49;00m\n",
      "\u001b[31mQASM2ParseError\u001b[39m: '<input>:3,5: needed a valid identifier, but instead saw qreg'"
     ]
    }
   ],
   "source": [
    "qasm_string = get_qasm_string(ast)\n",
    "circuit = QuantumCircuit.from_qasm_str(qasm_string)\n",
    "circuit.draw('mpl')\n",
    "\n",
    "\"\"\"QASM2ParseError: '<input>:3,5: needed a valid identifier, but instead saw qreg'\"\"\""
   ]
  },
  {
   "cell_type": "markdown",
   "metadata": {},
   "source": [
    "## 1.2 Correct Way to Define the Circuit (Do Not Use the Reserved QASM Commands)"
   ]
  },
  {
   "cell_type": "code",
   "execution_count": 7,
   "metadata": {},
   "outputs": [],
   "source": [
    "def ghz_linear_correct(n: int):\n",
    "    n_qubits = int(2**n)\n",
    "\n",
    "    @qasm2.extended\n",
    "    def ghz_linear_program():\n",
    "\n",
    "        qr = qasm2.qreg(n_qubits)\n",
    "        # Apply a Hadamard on the first qubit\n",
    "        qasm2.h(qr[0])\n",
    "        # Create a cascading sequence of CX gates\n",
    "        # necessary for quantum computers that\n",
    "        # only have nearest-neighbor connectivity between qubits\n",
    "        for i in range(1, n_qubits):\n",
    "            qasm2.cx(qr[i - 1], qr[i])\n",
    "\n",
    "    return ghz_linear_program"
   ]
  },
  {
   "cell_type": "code",
   "execution_count": 8,
   "metadata": {},
   "outputs": [
    {
     "name": "stdout",
     "output_type": "stream",
     "text": [
      "\u001b[90mOPENQASM 2.0\u001b[0m;\n",
      "\u001b[31minclude\u001b[0m \u001b[32m\"qelib1.inc\"\u001b[0m;\n",
      "\u001b[31mqreg\u001b[0m qr[4];\n",
      "\u001b[36mh\u001b[0m \u001b[36mqr\u001b[0m[\u001b[39m0\u001b[0m];\n",
      "\u001b[31mCX\u001b[0m \u001b[36mqr\u001b[0m[\u001b[39m0\u001b[0m], \u001b[36mqr\u001b[0m[\u001b[39m1\u001b[0m];\n",
      "\u001b[31mCX\u001b[0m \u001b[36mqr\u001b[0m[\u001b[39m1\u001b[0m], \u001b[36mqr\u001b[0m[\u001b[39m2\u001b[0m];\n",
      "\u001b[31mCX\u001b[0m \u001b[36mqr\u001b[0m[\u001b[39m2\u001b[0m], \u001b[36mqr\u001b[0m[\u001b[39m3\u001b[0m];\n"
     ]
    }
   ],
   "source": [
    "target = QASM2()\n",
    "ast = target.emit(ghz_linear_correct(2))\n",
    "pprint(ast)"
   ]
  },
  {
   "cell_type": "code",
   "execution_count": 9,
   "metadata": {},
   "outputs": [
    {
     "data": {
      "image/png": "[encoded data removed]",
      "text/plain": [
       "<Figure size 466.738x367.889 with 1 Axes>"
      ]
     },
     "execution_count": 9,
     "metadata": {},
     "output_type": "execute_result"
    }
   ],
   "source": [
    "qasm_string = get_qasm_string(ast)\n",
    "circuit = QuantumCircuit.from_qasm_str(qasm_string)\n",
    "circuit.draw('mpl')"
   ]
  },
  {
   "cell_type": "markdown",
   "metadata": {},
   "source": [
    "# 1.3 How to Prevent this from Even Happening (reserve variable names)"
   ]
  },
  {
   "cell_type": "code",
   "execution_count": 10,
   "metadata": {},
   "outputs": [
    {
     "name": "stdout",
     "output_type": "stream",
     "text": [
      "= Transformed Code =\n",
      "def gate_var(qreg_var, pi_var):\n",
      "    creg_var = qreg_var + 1\n",
      "    return creg_var + pi_var\n"
     ]
    }
   ],
   "source": [
    "\"\"\"\n",
    "To improve robustness and ensure compliance with QASM2 syntax,\n",
    "extra dialect might be added which would allow to automatically detection naming conflicts with reserved QASM2\n",
    "keywords—such as qreg, creg, gate, or measure. When detected the node transformer can be used to rename conflicting\n",
    "identifiers to ensure that generated QASM2 is valid. This approach would increase reliability of the QASM2 outputs.\n",
    "\"\"\"\n",
    "\n",
    "import ast\n",
    "\n",
    "\n",
    "def qasm_safe_renaming(tree, config=None):\n",
    "    \"\"\"\n",
    "    Kirin-style dialect that renames Python variable names\n",
    "    conflicting with QASM2 reserved words.\n",
    "    \"\"\"\n",
    "    if config is None:\n",
    "        config = {}\n",
    "\n",
    "    reserved = {\n",
    "        \"qreg\",\n",
    "        \"creg\",\n",
    "        \"gate\",\n",
    "        \"measure\",\n",
    "        \"reset\",\n",
    "        \"barrier\",\n",
    "        \"opaque\",\n",
    "        \"if\",\n",
    "        \"else\",\n",
    "        \"pi\",\n",
    "        \"sin\",\n",
    "        \"cos\",\n",
    "        \"tan\",\n",
    "        \"exp\",\n",
    "        \"ln\",\n",
    "        \"sqrt\",\n",
    "        \"include\",\n",
    "        \"openqasm\",\n",
    "        \"qasm\",\n",
    "    }\n",
    "\n",
    "    suffix = config.get(\"suffix\", \"_var\")\n",
    "\n",
    "    class RenameVisitor(ast.NodeTransformer):\n",
    "        def __init__(self):\n",
    "            self.renamed = {}\n",
    "\n",
    "        def rename_if_reserved(self, name):\n",
    "            if name in reserved:\n",
    "                new_name = f\"{name}{suffix}\"\n",
    "                self.renamed[name] = new_name\n",
    "                return new_name\n",
    "            return name\n",
    "\n",
    "        def visit_Name(self, node):\n",
    "            if isinstance(node.ctx, ast.Store | ast.Load):\n",
    "                node.id = self.renamed.get(node.id, self.rename_if_reserved(node.id))\n",
    "            return node\n",
    "\n",
    "        def visit_arg(self, node):\n",
    "            node.arg = self.renamed.get(node.arg, self.rename_if_reserved(node.arg))\n",
    "            return node\n",
    "\n",
    "        def visit_FunctionDef(self, node):\n",
    "            node.name = self.renamed.get(node.name, self.rename_if_reserved(node.name))\n",
    "            self.generic_visit(node)\n",
    "            return node\n",
    "\n",
    "        def visit_ClassDef(self, node):\n",
    "            node.name = self.renamed.get(node.name, self.rename_if_reserved(node.name))\n",
    "            self.generic_visit(node)\n",
    "            return node\n",
    "\n",
    "    return RenameVisitor().visit(tree)\n",
    "\n",
    "\n",
    "example_code = \"\"\"\n",
    "def gate(qreg, pi):\n",
    "    creg = qreg + 1\n",
    "    return creg + pi\n",
    "\"\"\"\n",
    "\n",
    "tree = ast.parse(example_code)\n",
    "\n",
    "transformed_tree = qasm_safe_renaming(tree, config={\"suffix\": \"_var\"})\n",
    "\n",
    "print(\"= Transformed Code =\")\n",
    "print(ast.unparse(transformed_tree))"
   ]
  },
  {
   "cell_type": "markdown",
   "metadata": {},
   "source": [
    "# 2. Dialects Not Supporting Certain Operators "
   ]
  },
  {
   "cell_type": "markdown",
   "metadata": {},
   "source": [
    "## 2.1 Dialects Not Supporting Boolean Operators "
   ]
  },
  {
   "cell_type": "code",
   "execution_count": 11,
   "metadata": {},
   "outputs": [],
   "source": [
    "@qasm2.extended\n",
    "def circ_bool():\n",
    "    qr = qasm2.qreg(4)\n",
    "    cr = qasm2.creg(4)\n",
    "    # Apply NOT gates to first 3 qubits\n",
    "    qasm2.x(qr[0])\n",
    "    qasm2.x(qr[1]) \n",
    "    qasm2.x(qr[2])\n",
    "    \n",
    "    # Apply controlled-Z gates between pairs of qubits\n",
    "    qasm2.cx(qr[0], qr[1])\n",
    "    qasm2.cx(qr[1], qr[2])\n",
    "    qasm2.cz(qr[2], qr[3])\n",
    "    qasm2.cz(qr[0], qr[3])\n",
    "\n",
    "    qasm2.measure(qr[0], cr[0])\n",
    "    qasm2.measure(qr[1], cr[1])\n",
    "    qasm2.measure(qr[2], cr[2])\n",
    "    qasm2.measure(qr[3], cr[3])\n",
    "    \n",
    "    if cr[0] == 0 and cr[1] == 1:\n",
    "        qasm2.x(qr[3])\n",
    "\n",
    "    return qr"
   ]
  },
  {
   "cell_type": "code",
   "execution_count": 13,
   "metadata": {},
   "outputs": [
    {
     "ename": "ValueError",
     "evalue": "dialect py.boolop is not supported by DialectGroup([qasm2.uop, qasm2.expr, qasm2.core, func, lowering.call, scf, qasm2.indexing, lowering.func])",
     "output_type": "error",
     "traceback": [
      "\u001b[31m---------------------------------------------------------------------------\u001b[39m",
      "\u001b[31mValueError\u001b[39m                                Traceback (most recent call last)",
      "\u001b[36mCell\u001b[39m\u001b[36m \u001b[39m\u001b[32mIn[13]\u001b[39m\u001b[32m, line 2\u001b[39m\n\u001b[32m      1\u001b[39m target = QASM2()\n\u001b[32m----> \u001b[39m\u001b[32m2\u001b[39m ast = \u001b[43mtarget\u001b[49m\u001b[43m.\u001b[49m\u001b[43memit\u001b[49m\u001b[43m(\u001b[49m\u001b[43mcirc_bool\u001b[49m\u001b[43m)\u001b[49m\n\u001b[32m      3\u001b[39m pprint(ast)\n",
      "\u001b[36mFile \u001b[39m\u001b[32m~/Desktop/Batista Lab/QC/YQuantum/charlie_delta/.venv/lib/python3.12/site-packages/bloqade/qasm2/emit/target.py:103\u001b[39m, in \u001b[36mQASM2.emit\u001b[39m\u001b[34m(self, entry)\u001b[39m\n\u001b[32m    101\u001b[39m Py2QASM(entry.dialects)(entry)\n\u001b[32m    102\u001b[39m target_main = EmitQASM2Main(\u001b[38;5;28mself\u001b[39m.main_target)\n\u001b[32m--> \u001b[39m\u001b[32m103\u001b[39m \u001b[43mtarget_main\u001b[49m\u001b[43m.\u001b[49m\u001b[43mrun\u001b[49m\u001b[43m(\u001b[49m\n\u001b[32m    104\u001b[39m \u001b[43m    \u001b[49m\u001b[43mentry\u001b[49m\u001b[43m,\u001b[49m\u001b[43m \u001b[49m\u001b[38;5;28;43mtuple\u001b[39;49m\u001b[43m(\u001b[49m\u001b[43mast\u001b[49m\u001b[43m.\u001b[49m\u001b[43mName\u001b[49m\u001b[43m(\u001b[49m\u001b[43mname\u001b[49m\u001b[43m)\u001b[49m\u001b[43m \u001b[49m\u001b[38;5;28;43;01mfor\u001b[39;49;00m\u001b[43m \u001b[49m\u001b[43mname\u001b[49m\u001b[43m \u001b[49m\u001b[38;5;129;43;01min\u001b[39;49;00m\u001b[43m \u001b[49m\u001b[43mentry\u001b[49m\u001b[43m.\u001b[49m\u001b[43marg_names\u001b[49m\u001b[43m[\u001b[49m\u001b[32;43m1\u001b[39;49m\u001b[43m:\u001b[49m\u001b[43m]\u001b[49m\u001b[43m)\u001b[49m\n\u001b[32m    105\u001b[39m \u001b[43m\u001b[49m\u001b[43m)\u001b[49m.expect()\n\u001b[32m    107\u001b[39m main_program = target_main.output\n\u001b[32m    108\u001b[39m \u001b[38;5;28;01massert\u001b[39;00m main_program \u001b[38;5;129;01mis\u001b[39;00m \u001b[38;5;129;01mnot\u001b[39;00m \u001b[38;5;28;01mNone\u001b[39;00m, \u001b[33mf\u001b[39m\u001b[33m\"\u001b[39m\u001b[33mfailed to emit \u001b[39m\u001b[38;5;132;01m{\u001b[39;00mentry.sym_name\u001b[38;5;132;01m}\u001b[39;00m\u001b[33m\"\u001b[39m\n",
      "\u001b[36mFile \u001b[39m\u001b[32m~/Desktop/Batista Lab/QC/YQuantum/charlie_delta/.venv/lib/python3.12/site-packages/kirin/interp/base.py:146\u001b[39m, in \u001b[36mBaseInterpreter.run\u001b[39m\u001b[34m(self, mt, args, kwargs)\u001b[39m\n\u001b[32m    144\u001b[39m args = \u001b[38;5;28mself\u001b[39m.get_args(mt.arg_names[\u001b[38;5;28mlen\u001b[39m(args) + \u001b[32m1\u001b[39m :], args, kwargs)\n\u001b[32m    145\u001b[39m \u001b[38;5;28;01mtry\u001b[39;00m:\n\u001b[32m--> \u001b[39m\u001b[32m146\u001b[39m     _, results = \u001b[38;5;28;43mself\u001b[39;49m\u001b[43m.\u001b[49m\u001b[43mrun_method\u001b[49m\u001b[43m(\u001b[49m\u001b[43mmt\u001b[49m\u001b[43m,\u001b[49m\u001b[43m \u001b[49m\u001b[43margs\u001b[49m\u001b[43m)\u001b[49m\n\u001b[32m    147\u001b[39m \u001b[38;5;28;01mexcept\u001b[39;00m InterpreterError \u001b[38;5;28;01mas\u001b[39;00m e:\n\u001b[32m    148\u001b[39m     \u001b[38;5;66;03m# NOTE: initialize will create new State\u001b[39;00m\n\u001b[32m    149\u001b[39m     \u001b[38;5;66;03m# so we don't need to copy the frames.\u001b[39;00m\n\u001b[32m    150\u001b[39m     \u001b[38;5;28;01mreturn\u001b[39;00m Err(e, \u001b[38;5;28mself\u001b[39m.state.frames)\n",
      "\u001b[36mFile \u001b[39m\u001b[32m~/Desktop/Batista Lab/QC/YQuantum/charlie_delta/.venv/lib/python3.12/site-packages/bloqade/qasm2/emit/base.py:44\u001b[39m, in \u001b[36mEmitQASM2Base.run_method\u001b[39m\u001b[34m(self, method, args)\u001b[39m\n\u001b[32m     41\u001b[39m \u001b[38;5;28;01mdef\u001b[39;00m\u001b[38;5;250m \u001b[39m\u001b[34mrun_method\u001b[39m(\n\u001b[32m     42\u001b[39m     \u001b[38;5;28mself\u001b[39m, method: ir.Method, args: \u001b[38;5;28mtuple\u001b[39m[ast.Node | \u001b[38;5;28;01mNone\u001b[39;00m, ...]\n\u001b[32m     43\u001b[39m ) -> \u001b[38;5;28mtuple\u001b[39m[EmitQASM2Frame[StmtType], ast.Node | \u001b[38;5;28;01mNone\u001b[39;00m]:\n\u001b[32m---> \u001b[39m\u001b[32m44\u001b[39m     \u001b[38;5;28;01mreturn\u001b[39;00m \u001b[38;5;28;43mself\u001b[39;49m\u001b[43m.\u001b[49m\u001b[43mrun_callable\u001b[49m\u001b[43m(\u001b[49m\u001b[43mmethod\u001b[49m\u001b[43m.\u001b[49m\u001b[43mcode\u001b[49m\u001b[43m,\u001b[49m\u001b[43m \u001b[49m\u001b[43m(\u001b[49m\u001b[43mast\u001b[49m\u001b[43m.\u001b[49m\u001b[43mName\u001b[49m\u001b[43m(\u001b[49m\u001b[43mmethod\u001b[49m\u001b[43m.\u001b[49m\u001b[43msym_name\u001b[49m\u001b[43m)\u001b[49m\u001b[43m,\u001b[49m\u001b[43m)\u001b[49m\u001b[43m \u001b[49m\u001b[43m+\u001b[49m\u001b[43m \u001b[49m\u001b[43margs\u001b[49m\u001b[43m)\u001b[49m\n",
      "\u001b[36mFile \u001b[39m\u001b[32m~/Desktop/Batista Lab/QC/YQuantum/charlie_delta/.venv/lib/python3.12/site-packages/kirin/interp/base.py:220\u001b[39m, in \u001b[36mBaseInterpreter.run_callable\u001b[39m\u001b[34m(self, code, args)\u001b[39m\n\u001b[32m    218\u001b[39m     \u001b[38;5;28;01mreturn\u001b[39;00m \u001b[38;5;28mself\u001b[39m.state.pop_frame(), \u001b[38;5;28mself\u001b[39m.void\n\u001b[32m    219\u001b[39m frame.set_values(body.blocks[\u001b[32m0\u001b[39m].args, args)\n\u001b[32m--> \u001b[39m\u001b[32m220\u001b[39m results = \u001b[38;5;28;43mself\u001b[39;49m\u001b[43m.\u001b[49m\u001b[43mrun_callable_region\u001b[49m\u001b[43m(\u001b[49m\u001b[43mframe\u001b[49m\u001b[43m,\u001b[49m\u001b[43m \u001b[49m\u001b[43mcode\u001b[49m\u001b[43m,\u001b[49m\u001b[43m \u001b[49m\u001b[43mbody\u001b[49m\u001b[43m)\u001b[49m\n\u001b[32m    221\u001b[39m \u001b[38;5;28;01mreturn\u001b[39;00m \u001b[38;5;28mself\u001b[39m.state.pop_frame(), results\n",
      "\u001b[36mFile \u001b[39m\u001b[32m~/Desktop/Batista Lab/QC/YQuantum/charlie_delta/.venv/lib/python3.12/site-packages/kirin/emit/abc.py:26\u001b[39m, in \u001b[36mEmitABC.run_callable_region\u001b[39m\u001b[34m(self, frame, code, region)\u001b[39m\n\u001b[32m     23\u001b[39m \u001b[38;5;28;01mdef\u001b[39;00m\u001b[38;5;250m \u001b[39m\u001b[34mrun_callable_region\u001b[39m(\n\u001b[32m     24\u001b[39m     \u001b[38;5;28mself\u001b[39m, frame: FrameType, code: ir.Statement, region: ir.Region\n\u001b[32m     25\u001b[39m ) -> ValueType:\n\u001b[32m---> \u001b[39m\u001b[32m26\u001b[39m     results = \u001b[38;5;28;43mself\u001b[39;49m\u001b[43m.\u001b[49m\u001b[43meval_stmt\u001b[49m\u001b[43m(\u001b[49m\u001b[43mframe\u001b[49m\u001b[43m,\u001b[49m\u001b[43m \u001b[49m\u001b[43mcode\u001b[49m\u001b[43m)\u001b[49m\n\u001b[32m     27\u001b[39m     \u001b[38;5;28;01mif\u001b[39;00m \u001b[38;5;28misinstance\u001b[39m(results, \u001b[38;5;28mtuple\u001b[39m):\n\u001b[32m     28\u001b[39m         \u001b[38;5;28;01mif\u001b[39;00m \u001b[38;5;28mlen\u001b[39m(results) == \u001b[32m0\u001b[39m:\n",
      "\u001b[36mFile \u001b[39m\u001b[32m~/Desktop/Batista Lab/QC/YQuantum/charlie_delta/.venv/lib/python3.12/site-packages/kirin/interp/base.py:335\u001b[39m, in \u001b[36mBaseInterpreter.eval_stmt\u001b[39m\u001b[34m(self, frame, stmt)\u001b[39m\n\u001b[32m    333\u001b[39m method = \u001b[38;5;28mself\u001b[39m.lookup_registry(frame, stmt)\n\u001b[32m    334\u001b[39m \u001b[38;5;28;01mif\u001b[39;00m method \u001b[38;5;129;01mis\u001b[39;00m \u001b[38;5;129;01mnot\u001b[39;00m \u001b[38;5;28;01mNone\u001b[39;00m:\n\u001b[32m--> \u001b[39m\u001b[32m335\u001b[39m     results = \u001b[43mmethod\u001b[49m\u001b[43m(\u001b[49m\u001b[38;5;28;43mself\u001b[39;49m\u001b[43m,\u001b[49m\u001b[43m \u001b[49m\u001b[43mframe\u001b[49m\u001b[43m,\u001b[49m\u001b[43m \u001b[49m\u001b[43mstmt\u001b[49m\u001b[43m)\u001b[49m\n\u001b[32m    336\u001b[39m     \u001b[38;5;28;01mif\u001b[39;00m \u001b[38;5;28mself\u001b[39m.debug \u001b[38;5;129;01mand\u001b[39;00m \u001b[38;5;129;01mnot\u001b[39;00m \u001b[38;5;28misinstance\u001b[39m(results, (\u001b[38;5;28mtuple\u001b[39m, SpecialValue)):\n\u001b[32m    337\u001b[39m         \u001b[38;5;28;01mraise\u001b[39;00m InterpreterError(\n\u001b[32m    338\u001b[39m             \u001b[33mf\u001b[39m\u001b[33m\"\u001b[39m\u001b[33mmethod must return tuple or SpecialResult, got \u001b[39m\u001b[38;5;132;01m{\u001b[39;00mresults\u001b[38;5;132;01m}\u001b[39;00m\u001b[33m\"\u001b[39m\n\u001b[32m    339\u001b[39m         )\n",
      "\u001b[36mFile \u001b[39m\u001b[32m~/Desktop/Batista Lab/QC/YQuantum/charlie_delta/.venv/lib/python3.12/site-packages/kirin/registry.py:19\u001b[39m, in \u001b[36mStatementImpl.__call__\u001b[39m\u001b[34m(self, interp, frame, stmt)\u001b[39m\n\u001b[32m     18\u001b[39m \u001b[38;5;28;01mdef\u001b[39;00m\u001b[38;5;250m \u001b[39m\u001b[34m__call__\u001b[39m(\u001b[38;5;28mself\u001b[39m, interp, frame, stmt: \u001b[33m\"\u001b[39m\u001b[33mStatement\u001b[39m\u001b[33m\"\u001b[39m):\n\u001b[32m---> \u001b[39m\u001b[32m19\u001b[39m     \u001b[38;5;28;01mreturn\u001b[39;00m \u001b[38;5;28;43mself\u001b[39;49m\u001b[43m.\u001b[49m\u001b[43mimpl\u001b[49m\u001b[43m(\u001b[49m\u001b[38;5;28;43mself\u001b[39;49m\u001b[43m.\u001b[49m\u001b[43mparent\u001b[49m\u001b[43m,\u001b[49m\u001b[43m \u001b[49m\u001b[43minterp\u001b[49m\u001b[43m,\u001b[49m\u001b[43m \u001b[49m\u001b[43mframe\u001b[49m\u001b[43m,\u001b[49m\u001b[43m \u001b[49m\u001b[43mstmt\u001b[49m\u001b[43m)\u001b[49m\n",
      "\u001b[36mFile \u001b[39m\u001b[32m~/Desktop/Batista Lab/QC/YQuantum/charlie_delta/.venv/lib/python3.12/site-packages/bloqade/qasm2/emit/main.py:26\u001b[39m, in \u001b[36mFunc.emit_func\u001b[39m\u001b[34m(self, emit, frame, stmt)\u001b[39m\n\u001b[32m     20\u001b[39m \u001b[38;5;129m@interp\u001b[39m.impl(func.Function)\n\u001b[32m     21\u001b[39m \u001b[38;5;28;01mdef\u001b[39;00m\u001b[38;5;250m \u001b[39m\u001b[34memit_func\u001b[39m(\n\u001b[32m     22\u001b[39m     \u001b[38;5;28mself\u001b[39m, emit: EmitQASM2Main, frame: EmitQASM2Frame, stmt: func.Function\n\u001b[32m     23\u001b[39m ):\n\u001b[32m     24\u001b[39m     \u001b[38;5;28;01mfrom\u001b[39;00m\u001b[38;5;250m \u001b[39m\u001b[34;01mbloqade\u001b[39;00m\u001b[34;01m.\u001b[39;00m\u001b[34;01mqasm2\u001b[39;00m\u001b[34;01m.\u001b[39;00m\u001b[34;01mdialects\u001b[39;00m\u001b[38;5;250m \u001b[39m\u001b[38;5;28;01mimport\u001b[39;00m glob, noise, parallel\n\u001b[32m---> \u001b[39m\u001b[32m26\u001b[39m     \u001b[43memit\u001b[49m\u001b[43m.\u001b[49m\u001b[43mrun_ssacfg_region\u001b[49m\u001b[43m(\u001b[49m\u001b[43mframe\u001b[49m\u001b[43m,\u001b[49m\u001b[43m \u001b[49m\u001b[43mstmt\u001b[49m\u001b[43m.\u001b[49m\u001b[43mbody\u001b[49m\u001b[43m)\u001b[49m\n\u001b[32m     27\u001b[39m     \u001b[38;5;28;01mif\u001b[39;00m emit.dialects.data.intersection(\n\u001b[32m     28\u001b[39m         (parallel.dialect, glob.dialect, noise.dialect)\n\u001b[32m     29\u001b[39m     ):\n\u001b[32m     30\u001b[39m         header = ast.Kirin([dialect.name \u001b[38;5;28;01mfor\u001b[39;00m dialect \u001b[38;5;129;01min\u001b[39;00m emit.dialects])\n",
      "\u001b[36mFile \u001b[39m\u001b[32m~/Desktop/Batista Lab/QC/YQuantum/charlie_delta/.venv/lib/python3.12/site-packages/kirin/emit/abc.py:41\u001b[39m, in \u001b[36mEmitABC.run_ssacfg_region\u001b[39m\u001b[34m(self, frame, region)\u001b[39m\n\u001b[32m     37\u001b[39m frame.worklist.append(\n\u001b[32m     38\u001b[39m     interp.Successor(region.blocks[\u001b[32m0\u001b[39m], frame.get_values(region.blocks[\u001b[32m0\u001b[39m].args))\n\u001b[32m     39\u001b[39m )\n\u001b[32m     40\u001b[39m \u001b[38;5;28;01mwhile\u001b[39;00m (succ := frame.worklist.pop()) \u001b[38;5;129;01mis\u001b[39;00m \u001b[38;5;129;01mnot\u001b[39;00m \u001b[38;5;28;01mNone\u001b[39;00m:\n\u001b[32m---> \u001b[39m\u001b[32m41\u001b[39m     block_header = \u001b[38;5;28;43mself\u001b[39;49m\u001b[43m.\u001b[49m\u001b[43memit_block\u001b[49m\u001b[43m(\u001b[49m\u001b[43mframe\u001b[49m\u001b[43m,\u001b[49m\u001b[43m \u001b[49m\u001b[43msucc\u001b[49m\u001b[43m.\u001b[49m\u001b[43mblock\u001b[49m\u001b[43m)\u001b[49m\n\u001b[32m     42\u001b[39m     frame.block_ref[succ.block] = block_header\n\u001b[32m     43\u001b[39m \u001b[38;5;28;01mreturn\u001b[39;00m ()\n",
      "\u001b[36mFile \u001b[39m\u001b[32m~/Desktop/Batista Lab/QC/YQuantum/charlie_delta/.venv/lib/python3.12/site-packages/bloqade/qasm2/emit/base.py:48\u001b[39m, in \u001b[36mEmitQASM2Base.emit_block\u001b[39m\u001b[34m(self, frame, block)\u001b[39m\n\u001b[32m     46\u001b[39m \u001b[38;5;28;01mdef\u001b[39;00m\u001b[38;5;250m \u001b[39m\u001b[34memit_block\u001b[39m(\u001b[38;5;28mself\u001b[39m, frame: EmitQASM2Frame, block: ir.Block) -> ast.Node | \u001b[38;5;28;01mNone\u001b[39;00m:\n\u001b[32m     47\u001b[39m     \u001b[38;5;28;01mfor\u001b[39;00m stmt \u001b[38;5;129;01min\u001b[39;00m block.stmts:\n\u001b[32m---> \u001b[39m\u001b[32m48\u001b[39m         result = \u001b[38;5;28;43mself\u001b[39;49m\u001b[43m.\u001b[49m\u001b[43meval_stmt\u001b[49m\u001b[43m(\u001b[49m\u001b[43mframe\u001b[49m\u001b[43m,\u001b[49m\u001b[43m \u001b[49m\u001b[43mstmt\u001b[49m\u001b[43m)\u001b[49m\n\u001b[32m     49\u001b[39m         \u001b[38;5;28;01mif\u001b[39;00m \u001b[38;5;28misinstance\u001b[39m(result, \u001b[38;5;28mtuple\u001b[39m):\n\u001b[32m     50\u001b[39m             frame.set_values(stmt.results, result)\n",
      "\u001b[36mFile \u001b[39m\u001b[32m~/Desktop/Batista Lab/QC/YQuantum/charlie_delta/.venv/lib/python3.12/site-packages/kirin/interp/base.py:345\u001b[39m, in \u001b[36mBaseInterpreter.eval_stmt\u001b[39m\u001b[34m(self, frame, stmt)\u001b[39m\n\u001b[32m    341\u001b[39m \u001b[38;5;28;01melif\u001b[39;00m stmt.dialect \u001b[38;5;129;01mnot\u001b[39;00m \u001b[38;5;129;01min\u001b[39;00m \u001b[38;5;28mself\u001b[39m.dialects:\n\u001b[32m    342\u001b[39m     \u001b[38;5;66;03m# NOTE: we should terminate the interpreter because this is a\u001b[39;00m\n\u001b[32m    343\u001b[39m     \u001b[38;5;66;03m# deveoper error, not a user error.\u001b[39;00m\n\u001b[32m    344\u001b[39m     name = stmt.dialect.name \u001b[38;5;28;01mif\u001b[39;00m stmt.dialect \u001b[38;5;28;01melse\u001b[39;00m \u001b[33m\"\u001b[39m\u001b[33mNone\u001b[39m\u001b[33m\"\u001b[39m\n\u001b[32m--> \u001b[39m\u001b[32m345\u001b[39m     \u001b[38;5;28;01mraise\u001b[39;00m \u001b[38;5;167;01mValueError\u001b[39;00m(\u001b[33mf\u001b[39m\u001b[33m\"\u001b[39m\u001b[33mdialect \u001b[39m\u001b[38;5;132;01m{\u001b[39;00mname\u001b[38;5;132;01m}\u001b[39;00m\u001b[33m is not supported by \u001b[39m\u001b[38;5;132;01m{\u001b[39;00m\u001b[38;5;28mself\u001b[39m.dialects\u001b[38;5;132;01m}\u001b[39;00m\u001b[33m\"\u001b[39m)\n\u001b[32m    347\u001b[39m \u001b[38;5;28;01mreturn\u001b[39;00m \u001b[38;5;28mself\u001b[39m.eval_stmt_fallback(frame, stmt)\n",
      "\u001b[31mValueError\u001b[39m: dialect py.boolop is not supported by DialectGroup([qasm2.uop, qasm2.expr, qasm2.core, func, lowering.call, scf, qasm2.indexing, lowering.func])"
     ]
    }
   ],
   "source": [
    "target = QASM2()\n",
    "ast = target.emit(circ_bool)\n",
    "pprint(ast)"
   ]
  },
  {
   "cell_type": "markdown",
   "metadata": {},
   "source": [
    "## 2.2 Dialects Not Supporting Nested Operators "
   ]
  },
  {
   "cell_type": "code",
   "execution_count": 28,
   "metadata": {},
   "outputs": [],
   "source": [
    "@qasm2.extended\n",
    "def circ_nested():\n",
    "    qr = qasm2.qreg(4)\n",
    "    cr = qasm2.creg(4)\n",
    "    # Apply NOT gates to first 3 qubits\n",
    "    qasm2.x(qr[0])\n",
    "    qasm2.x(qr[1]) \n",
    "    qasm2.x(qr[2])\n",
    "    \n",
    "    # Apply controlled-Z gates between pairs of qubits\n",
    "    qasm2.cx(qr[0], qr[1])\n",
    "    qasm2.cx(qr[1], qr[2])\n",
    "    qasm2.cz(qr[2], qr[3])\n",
    "    qasm2.cz(qr[0], qr[3])\n",
    "\n",
    "    qasm2.measure(qr[0], cr[0])\n",
    "    qasm2.measure(qr[1], cr[1])\n",
    "    qasm2.measure(qr[2], cr[2])\n",
    "    qasm2.measure(qr[3], cr[3])\n",
    "    \n",
    "    if cr[0] == 0:\n",
    "        if cr[1] == 1:\n",
    "            qasm2.x(qr[3])\n",
    "\n",
    "    return qr"
   ]
  },
  {
   "cell_type": "code",
   "execution_count": 29,
   "metadata": {},
   "outputs": [
    {
     "name": "stdout",
     "output_type": "stream",
     "text": [
      "\u001b[90mOPENQASM 2.0\u001b[0m;\n",
      "\u001b[31minclude\u001b[0m \u001b[32m\"qelib1.inc\"\u001b[0m;\n",
      "\u001b[31mqreg\u001b[0m qr[4];\n",
      "\u001b[31mcreg\u001b[0m cr[4];\n",
      "\u001b[36mx\u001b[0m \u001b[36mqr\u001b[0m[\u001b[39m0\u001b[0m];\n",
      "\u001b[36mx\u001b[0m \u001b[36mqr\u001b[0m[\u001b[39m1\u001b[0m];\n",
      "\u001b[36mx\u001b[0m \u001b[36mqr\u001b[0m[\u001b[39m2\u001b[0m];\n",
      "\u001b[31mCX\u001b[0m \u001b[36mqr\u001b[0m[\u001b[39m0\u001b[0m], \u001b[36mqr\u001b[0m[\u001b[39m1\u001b[0m];\n",
      "\u001b[31mCX\u001b[0m \u001b[36mqr\u001b[0m[\u001b[39m1\u001b[0m], \u001b[36mqr\u001b[0m[\u001b[39m2\u001b[0m];\n",
      "\u001b[36mcz\u001b[0m \u001b[36mqr\u001b[0m[\u001b[39m2\u001b[0m], \u001b[36mqr\u001b[0m[\u001b[39m3\u001b[0m];\n",
      "\u001b[36mcz\u001b[0m \u001b[36mqr\u001b[0m[\u001b[39m0\u001b[0m], \u001b[36mqr\u001b[0m[\u001b[39m3\u001b[0m];\n",
      "\u001b[31mmeasure\u001b[0m \u001b[36mqr\u001b[0m[\u001b[39m0\u001b[0m] -> \u001b[36mcr\u001b[0m[\u001b[39m0\u001b[0m];\n",
      "\u001b[31mmeasure\u001b[0m \u001b[36mqr\u001b[0m[\u001b[39m1\u001b[0m] -> \u001b[36mcr\u001b[0m[\u001b[39m1\u001b[0m];\n",
      "\u001b[31mmeasure\u001b[0m \u001b[36mqr\u001b[0m[\u001b[39m2\u001b[0m] -> \u001b[36mcr\u001b[0m[\u001b[39m2\u001b[0m];\n",
      "\u001b[31mmeasure\u001b[0m \u001b[36mqr\u001b[0m[\u001b[39m3\u001b[0m] -> \u001b[36mcr\u001b[0m[\u001b[39m3\u001b[0m];\n",
      "\u001b[31mif\u001b[0m (\u001b[36mcr\u001b[0m[\u001b[39m0\u001b[0m]\u001b[31m == \u001b[0m0) \u001b[31mif\u001b[0m (\u001b[36mcr\u001b[0m[\u001b[39m1\u001b[0m]\u001b[31m == \u001b[0m1) \u001b[36mx\u001b[0m \u001b[36mqr\u001b[0m[\u001b[39m3\u001b[0m];\n"
     ]
    }
   ],
   "source": [
    "target = QASM2()\n",
    "ast = target.emit(circ_nested)\n",
    "pprint(ast)"
   ]
  },
  {
   "cell_type": "markdown",
   "metadata": {},
   "source": [
    "### The QASM string again is not valid at the \"nested if\" part"
   ]
  },
  {
   "cell_type": "code",
   "execution_count": 30,
   "metadata": {},
   "outputs": [
    {
     "ename": "QASM2ParseError",
     "evalue": "\"<input>:16,6: needed '==', but instead saw [\"",
     "output_type": "error",
     "traceback": [
      "\u001b[31m---------------------------------------------------------------------------\u001b[39m",
      "\u001b[31mQASM2ParseError\u001b[39m                           Traceback (most recent call last)",
      "\u001b[36mCell\u001b[39m\u001b[36m \u001b[39m\u001b[32mIn[30]\u001b[39m\u001b[32m, line 2\u001b[39m\n\u001b[32m      1\u001b[39m qasm_string = get_qasm_string(ast)\n\u001b[32m----> \u001b[39m\u001b[32m2\u001b[39m circuit = \u001b[43mQuantumCircuit\u001b[49m\u001b[43m.\u001b[49m\u001b[43mfrom_qasm_str\u001b[49m\u001b[43m(\u001b[49m\u001b[43mqasm_string\u001b[49m\u001b[43m)\u001b[49m\n\u001b[32m      3\u001b[39m circuit.draw(\u001b[33m'\u001b[39m\u001b[33mmpl\u001b[39m\u001b[33m'\u001b[39m)\n",
      "\u001b[36mFile \u001b[39m\u001b[32m~/Desktop/Batista Lab/QC/YQuantum/charlie_delta/.venv/lib/python3.12/site-packages/qiskit/circuit/quantumcircuit.py:4244\u001b[39m, in \u001b[36mQuantumCircuit.from_qasm_str\u001b[39m\u001b[34m(qasm_str)\u001b[39m\n\u001b[32m   4241\u001b[39m \u001b[38;5;66;03m# pylint: disable=cyclic-import\u001b[39;00m\n\u001b[32m   4242\u001b[39m \u001b[38;5;28;01mfrom\u001b[39;00m\u001b[38;5;250m \u001b[39m\u001b[34;01mqiskit\u001b[39;00m\u001b[38;5;250m \u001b[39m\u001b[38;5;28;01mimport\u001b[39;00m qasm2\n\u001b[32m-> \u001b[39m\u001b[32m4244\u001b[39m \u001b[38;5;28;01mreturn\u001b[39;00m \u001b[43mqasm2\u001b[49m\u001b[43m.\u001b[49m\u001b[43mloads\u001b[49m\u001b[43m(\u001b[49m\n\u001b[32m   4245\u001b[39m \u001b[43m    \u001b[49m\u001b[43mqasm_str\u001b[49m\u001b[43m,\u001b[49m\n\u001b[32m   4246\u001b[39m \u001b[43m    \u001b[49m\u001b[43minclude_path\u001b[49m\u001b[43m=\u001b[49m\u001b[43mqasm2\u001b[49m\u001b[43m.\u001b[49m\u001b[43mLEGACY_INCLUDE_PATH\u001b[49m\u001b[43m,\u001b[49m\n\u001b[32m   4247\u001b[39m \u001b[43m    \u001b[49m\u001b[43mcustom_instructions\u001b[49m\u001b[43m=\u001b[49m\u001b[43mqasm2\u001b[49m\u001b[43m.\u001b[49m\u001b[43mLEGACY_CUSTOM_INSTRUCTIONS\u001b[49m\u001b[43m,\u001b[49m\n\u001b[32m   4248\u001b[39m \u001b[43m    \u001b[49m\u001b[43mcustom_classical\u001b[49m\u001b[43m=\u001b[49m\u001b[43mqasm2\u001b[49m\u001b[43m.\u001b[49m\u001b[43mLEGACY_CUSTOM_CLASSICAL\u001b[49m\u001b[43m,\u001b[49m\n\u001b[32m   4249\u001b[39m \u001b[43m    \u001b[49m\u001b[43mstrict\u001b[49m\u001b[43m=\u001b[49m\u001b[38;5;28;43;01mFalse\u001b[39;49;00m\u001b[43m,\u001b[49m\n\u001b[32m   4250\u001b[39m \u001b[43m\u001b[49m\u001b[43m)\u001b[49m\n",
      "\u001b[36mFile \u001b[39m\u001b[32m~/Desktop/Batista Lab/QC/YQuantum/charlie_delta/.venv/lib/python3.12/site-packages/qiskit/qasm2/__init__.py:602\u001b[39m, in \u001b[36mloads\u001b[39m\u001b[34m(string, include_path, custom_instructions, custom_classical, strict)\u001b[39m\n\u001b[32m    586\u001b[39m \u001b[38;5;250m\u001b[39m\u001b[33;03m\"\"\"Parse an OpenQASM 2 program from a string into a :class:`.QuantumCircuit`.\u001b[39;00m\n\u001b[32m    587\u001b[39m \n\u001b[32m    588\u001b[39m \u001b[33;03mArgs:\u001b[39;00m\n\u001b[32m   (...)\u001b[39m\u001b[32m    599\u001b[39m \u001b[33;03m    A circuit object representing the same OpenQASM 2 program.\u001b[39;00m\n\u001b[32m    600\u001b[39m \u001b[33;03m\"\"\"\u001b[39;00m\n\u001b[32m    601\u001b[39m custom_instructions = \u001b[38;5;28mlist\u001b[39m(custom_instructions)\n\u001b[32m--> \u001b[39m\u001b[32m602\u001b[39m \u001b[38;5;28;01mreturn\u001b[39;00m \u001b[43m_parse\u001b[49m\u001b[43m.\u001b[49m\u001b[43mfrom_bytecode\u001b[49m\u001b[43m(\u001b[49m\n\u001b[32m    603\u001b[39m \u001b[43m    \u001b[49m\u001b[43m_qasm2\u001b[49m\u001b[43m.\u001b[49m\u001b[43mbytecode_from_string\u001b[49m\u001b[43m(\u001b[49m\n\u001b[32m    604\u001b[39m \u001b[43m        \u001b[49m\u001b[43mstring\u001b[49m\u001b[43m,\u001b[49m\n\u001b[32m    605\u001b[39m \u001b[43m        \u001b[49m\u001b[43m[\u001b[49m\u001b[43m_normalize_path\u001b[49m\u001b[43m(\u001b[49m\u001b[43mpath\u001b[49m\u001b[43m)\u001b[49m\u001b[43m \u001b[49m\u001b[38;5;28;43;01mfor\u001b[39;49;00m\u001b[43m \u001b[49m\u001b[43mpath\u001b[49m\u001b[43m \u001b[49m\u001b[38;5;129;43;01min\u001b[39;49;00m\u001b[43m \u001b[49m\u001b[43minclude_path\u001b[49m\u001b[43m]\u001b[49m\u001b[43m,\u001b[49m\n\u001b[32m    606\u001b[39m \u001b[43m        \u001b[49m\u001b[43m[\u001b[49m\n\u001b[32m    607\u001b[39m \u001b[43m            \u001b[49m\u001b[43m_qasm2\u001b[49m\u001b[43m.\u001b[49m\u001b[43mCustomInstruction\u001b[49m\u001b[43m(\u001b[49m\u001b[43mx\u001b[49m\u001b[43m.\u001b[49m\u001b[43mname\u001b[49m\u001b[43m,\u001b[49m\u001b[43m \u001b[49m\u001b[43mx\u001b[49m\u001b[43m.\u001b[49m\u001b[43mnum_params\u001b[49m\u001b[43m,\u001b[49m\u001b[43m \u001b[49m\u001b[43mx\u001b[49m\u001b[43m.\u001b[49m\u001b[43mnum_qubits\u001b[49m\u001b[43m,\u001b[49m\u001b[43m \u001b[49m\u001b[43mx\u001b[49m\u001b[43m.\u001b[49m\u001b[43mbuiltin\u001b[49m\u001b[43m)\u001b[49m\n\u001b[32m    608\u001b[39m \u001b[43m            \u001b[49m\u001b[38;5;28;43;01mfor\u001b[39;49;00m\u001b[43m \u001b[49m\u001b[43mx\u001b[49m\u001b[43m \u001b[49m\u001b[38;5;129;43;01min\u001b[39;49;00m\u001b[43m \u001b[49m\u001b[43mcustom_instructions\u001b[49m\n\u001b[32m    609\u001b[39m \u001b[43m        \u001b[49m\u001b[43m]\u001b[49m\u001b[43m,\u001b[49m\n\u001b[32m    610\u001b[39m \u001b[43m        \u001b[49m\u001b[38;5;28;43mtuple\u001b[39;49m\u001b[43m(\u001b[49m\u001b[43mcustom_classical\u001b[49m\u001b[43m)\u001b[49m\u001b[43m,\u001b[49m\n\u001b[32m    611\u001b[39m \u001b[43m        \u001b[49m\u001b[43mstrict\u001b[49m\u001b[43m,\u001b[49m\n\u001b[32m    612\u001b[39m \u001b[43m    \u001b[49m\u001b[43m)\u001b[49m\u001b[43m,\u001b[49m\n\u001b[32m    613\u001b[39m \u001b[43m    \u001b[49m\u001b[43mcustom_instructions\u001b[49m\u001b[43m,\u001b[49m\n\u001b[32m    614\u001b[39m \u001b[43m\u001b[49m\u001b[43m)\u001b[49m\n",
      "\u001b[36mFile \u001b[39m\u001b[32m~/Desktop/Batista Lab/QC/YQuantum/charlie_delta/.venv/lib/python3.12/site-packages/qiskit/qasm2/parse.py:242\u001b[39m, in \u001b[36mfrom_bytecode\u001b[39m\u001b[34m(bytecode, custom_instructions)\u001b[39m\n\u001b[32m    239\u001b[39m \u001b[38;5;66;03m# Pull this out as an explicit iterator so we can manually advance the loop in `DeclareGate`\u001b[39;00m\n\u001b[32m    240\u001b[39m \u001b[38;5;66;03m# contexts easily.\u001b[39;00m\n\u001b[32m    241\u001b[39m bc = \u001b[38;5;28miter\u001b[39m(bytecode)\n\u001b[32m--> \u001b[39m\u001b[32m242\u001b[39m \u001b[43m\u001b[49m\u001b[38;5;28;43;01mfor\u001b[39;49;00m\u001b[43m \u001b[49m\u001b[43mop\u001b[49m\u001b[43m \u001b[49m\u001b[38;5;129;43;01min\u001b[39;49;00m\u001b[43m \u001b[49m\u001b[43mbc\u001b[49m\u001b[43m:\u001b[49m\n\u001b[32m    243\u001b[39m \u001b[43m    \u001b[49m\u001b[38;5;66;43;03m# We have to check `op.opcode` so many times, it's worth pulling out the extra attribute\u001b[39;49;00m\n\u001b[32m    244\u001b[39m \u001b[43m    \u001b[49m\u001b[38;5;66;43;03m# access.  We should check the opcodes in order of their likelihood to be in the OQ2 program\u001b[39;49;00m\n\u001b[32m    245\u001b[39m \u001b[43m    \u001b[49m\u001b[38;5;66;43;03m# for speed.  Gate applications are by far the most common for long programs.  This function\u001b[39;49;00m\n\u001b[32m    246\u001b[39m \u001b[43m    \u001b[49m\u001b[38;5;66;43;03m# is deliberately long and does not use hashmaps or function lookups for speed in\u001b[39;49;00m\n\u001b[32m    247\u001b[39m \u001b[43m    \u001b[49m\u001b[38;5;66;43;03m# Python-space.\u001b[39;49;00m\n\u001b[32m    248\u001b[39m \u001b[43m    \u001b[49m\u001b[43mopcode\u001b[49m\u001b[43m \u001b[49m\u001b[43m=\u001b[49m\u001b[43m \u001b[49m\u001b[43mop\u001b[49m\u001b[43m.\u001b[49m\u001b[43mopcode\u001b[49m\n\u001b[32m    249\u001b[39m \u001b[43m    \u001b[49m\u001b[38;5;66;43;03m# `OpCode` is an `enum` in Rust, but its instances don't have the same singleton property as\u001b[39;49;00m\n\u001b[32m    250\u001b[39m \u001b[43m    \u001b[49m\u001b[38;5;66;43;03m# Python `enum.Enum` objects.\u001b[39;49;00m\n",
      "\u001b[31mQASM2ParseError\u001b[39m: \"<input>:16,6: needed '==', but instead saw [\""
     ]
    }
   ],
   "source": [
    "qasm_string = get_qasm_string(ast)\n",
    "circuit = QuantumCircuit.from_qasm_str(qasm_string)\n",
    "circuit.draw('mpl')"
   ]
  },
  {
   "cell_type": "markdown",
   "metadata": {},
   "source": [
    "# 3. Raising Code Quality through Adoption of the Engineering Best Practices"
   ]
  },
  {
   "cell_type": "markdown",
   "metadata": {},
   "source": [
    "## 3.1 Example from a [Bloqade Test](https://github.com/QuEraComputing/bloqade/blob/823e8e84d109714dabe77a2f0f003e20d1faa846/test/qasm2/emit/test_qasm2_emit.py)"
   ]
  },
  {
   "cell_type": "markdown",
   "metadata": {},
   "source": [
    "(i) avoid nested functions via the use of fixtures\n",
    "\n",
    "(ii) adopt pytest for the assertions\n",
    "\n",
    "(iii) avoid print statements\n",
    "\n",
    "(iv) adopt arrange act assert practice\n",
    "\n",
    "###  Also, the QASM string here again is not valid because the reserved command qreg is abused."
   ]
  },
  {
   "cell_type": "code",
   "execution_count": 14,
   "metadata": {},
   "outputs": [],
   "source": [
    "def test_global_allow_global_allow_para():\n",
    "\n",
    "    @qasm2.extended\n",
    "    def glob_u():\n",
    "        qreg = qasm2.qreg(3)\n",
    "        qreg1 = qasm2.qreg(3)\n",
    "        qasm2.glob.u(theta=0.1, phi=0.2, lam=0.3, registers=[qreg, qreg1])\n",
    "\n",
    "    target = qasm2.emit.QASM2(\n",
    "        allow_global=True,\n",
    "        allow_parallel=True,\n",
    "        custom_gate=True,\n",
    "    )\n",
    "    qasm2_str = target.emit_str(glob_u)\n",
    "    print(qasm2_str)\n",
    "    assert (\n",
    "        qasm2_str\n",
    "        == \"\"\"KIRIN {func,lowering.call,lowering.func,py.ilist,qasm2.core,qasm2.expr,qasm2.glob,qasm2.indexing,qasm2.parallel,qasm2.uop,scf};\n",
    "include \"qelib1.inc\";\n",
    "qreg qreg[3];\n",
    "qreg qreg1[3];\n",
    "glob.U(0.1, 0.2, 0.3) {qreg, qreg1}\n",
    "\"\"\"\n",
    "    )"
   ]
  },
  {
   "cell_type": "markdown",
   "metadata": {},
   "source": [
    "## 3.2 A Better Unit Test"
   ]
  },
  {
   "cell_type": "code",
   "execution_count": 37,
   "metadata": {},
   "outputs": [],
   "source": [
    "import pytest\n",
    "from bloqade.qasm2 import extended, qreg, glob, emit\n",
    "\n",
    "@pytest.fixture\n",
    "def custom_circuit():\n",
    "    @extended\n",
    "    def circuit():\n",
    "        qreg_var = qreg(3)\n",
    "        qreg_var1 = qreg(3)\n",
    "        glob.u(theta=0.1, phi=0.2, lam=0.3, registers=[qreg_var, qreg_var1])\n",
    "    return circuit\n",
    "\n",
    "def test_global_allow_global_allow_para(custom_circuit):\n",
    "    # Arrange\n",
    "    target = emit.QASM2(\n",
    "        allow_global=True,\n",
    "        allow_parallel=True,\n",
    "        custom_gate=True,\n",
    "    )\n",
    "\n",
    "    expected_qasm = \"\"\"KIRIN {func,lowering.call,lowering.func,py.ilist,qasm2.core,qasm2.expr,qasm2.glob,qasm2.indexing,qasm2.parallel,qasm2.uop,scf};\n",
    "include \"qelib1.inc\";\n",
    "qreg qreg_var[3];\n",
    "qreg qreg_var1[3];\n",
    "glob.U(0.1, 0.2, 0.3) {qreg_var, qreg_var1}\n",
    "\"\"\"\n",
    "\n",
    "    # Act\n",
    "    qasm2_str = target.emit_str(custom_circuit)\n",
    "\n",
    "    # Assert\n",
    "    assert qasm2_str == expected_qasm\n"
   ]
  },
  {
   "cell_type": "markdown",
   "metadata": {},
   "source": [
    "# 3.3 Example from a Bloqade Feature (Noise Model) [first part](https://github.com/QuEraComputing/bloqade/blob/823e8e84d109714dabe77a2f0f003e20d1faa846/src/bloqade/qasm2/passes/noise.py) and [second part](https://github.com/QuEraComputing/bloqade/blob/823e8e84d109714dabe77a2f0f003e20d1faa846/src/bloqade/noise/native/model.py)"
   ]
  },
  {
   "cell_type": "markdown",
   "metadata": {},
   "source": [
    "### The current system for injecting noise into quantum circuits is somewhat rigid. While it applies a specific noise model and includes post-processing optimizations, it doesn't give users much flexibility to customize how noise behaves. In particular, key parameters that control the strength or character of gate-level noise aren’t exposed in a way that allows tuning or experimentation. As a result, users are locked into the default settings of the noise model, which may not reflect their specific use cases or experimental setups."
   ]
  },
  {
   "cell_type": "code",
   "execution_count": null,
   "metadata": {},
   "outputs": [],
   "source": []
  }
 ],
 "metadata": {
  "kernelspec": {
   "display_name": ".venv",
   "language": "python",
   "name": "python3"
  },
  "language_info": {
   "codemirror_mode": {
    "name": "ipython",
    "version": 3
   },
   "file_extension": ".py",
   "mimetype": "text/x-python",
   "name": "python",
   "nbconvert_exporter": "python",
   "pygments_lexer": "ipython3",
   "version": "3.12.3"
  }
 },
 "nbformat": 4,
 "nbformat_minor": 2
}
